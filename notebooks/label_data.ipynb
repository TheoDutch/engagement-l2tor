{
 "cells": [
  {
   "cell_type": "markdown",
   "metadata": {},
   "source": [
    "This notebook is used for merging the label files. "
   ]
  },
  {
   "cell_type": "code",
   "execution_count": 13,
   "metadata": {},
   "outputs": [],
   "source": [
    "import numpy as np"
   ]
  },
  {
   "cell_type": "code",
   "execution_count": 18,
   "metadata": {},
   "outputs": [],
   "source": [
    "test_names = [line.rstrip('\\n') for line in open('/home/pieter/data/emoreact/Test_names.txt')]\n",
    "test_names = [line[1:-1] for line in test_names]\n",
    "train_names = [line.rstrip('\\n') for line in open('/home/pieter/data/emoreact/Train_names.txt')]\n",
    "train_names = [line[1:-1] for line in train_names]\n",
    "validation_names = [line.rstrip('\\n') for line in open('/home/pieter/data/emoreact/Val_names.txt')]\n",
    "validation_names = [line[1:-1] for line in validation_names]"
   ]
  },
  {
   "cell_type": "code",
   "execution_count": 19,
   "metadata": {},
   "outputs": [
    {
     "name": "stdout",
     "output_type": "stream",
     "text": [
      "80''sTOYS123_2.mp4\n",
      "80''sTOYS118_2.mp4\n",
      "80''sTOYS119_2.mp4\n"
     ]
    }
   ],
   "source": [
    "print(test_names[1])\n",
    "print(train_names[1])\n",
    "print(validation_names[1])"
   ]
  },
  {
   "cell_type": "code",
   "execution_count": 53,
   "metadata": {},
   "outputs": [],
   "source": [
    "test_labels = [line.rstrip('\\n') for line in open('/home/pieter/data/emoreact/test_labels.text')]\n",
    "train_labels = [line.rstrip('\\n') for line in open('/home/pieter/data/emoreact/train_labels.text')]\n",
    "validation_labels = [line.rstrip('\\n') for line in open('/home/pieter/data/emoreact/val_labels.text')]"
   ]
  },
  {
   "cell_type": "code",
   "execution_count": 61,
   "metadata": {},
   "outputs": [],
   "source": [
    "test = open('/home/pieter/data/emoreact/test.txt', 'w')\n",
    "for x, y in zip(test_names, test_labels):\n",
    "    test.write(x + \",\" + y + \"\\n\")"
   ]
  },
  {
   "cell_type": "code",
   "execution_count": 62,
   "metadata": {},
   "outputs": [],
   "source": [
    "validation = open('/home/pieter/data/emoreact/val.txt', 'w')\n",
    "for x, y in zip(validation_names, validation_labels):\n",
    "    validation.write(x + \",\" + y + \"\\n\")"
   ]
  },
  {
   "cell_type": "code",
   "execution_count": 63,
   "metadata": {},
   "outputs": [],
   "source": [
    "train = open('/home/pieter/data/emoreact/train.txt', 'w')\n",
    "for x, y in zip(train_names, train_labels):\n",
    "    train.write(x + \",\" + y + \"\\n\")"
   ]
  },
  {
   "cell_type": "code",
   "execution_count": null,
   "metadata": {},
   "outputs": [],
   "source": []
  }
 ],
 "metadata": {
  "kernelspec": {
   "display_name": "Python 3",
   "language": "python",
   "name": "python3"
  },
  "language_info": {
   "codemirror_mode": {
    "name": "ipython",
    "version": 3
   },
   "file_extension": ".py",
   "mimetype": "text/x-python",
   "name": "python",
   "nbconvert_exporter": "python",
   "pygments_lexer": "ipython3",
   "version": "3.5.3"
  }
 },
 "nbformat": 4,
 "nbformat_minor": 2
}
